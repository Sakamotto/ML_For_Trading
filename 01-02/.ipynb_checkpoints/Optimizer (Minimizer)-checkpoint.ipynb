{
 "cells": [
  {
   "cell_type": "code",
   "execution_count": 1,
   "metadata": {
    "collapsed": true
   },
   "outputs": [],
   "source": [
    "import pandas as pd\n",
    "import matplotlib.pyplot as plt\n",
    "import numpy as np\n",
    "import scipy.optimize as spo"
   ]
  },
  {
   "cell_type": "code",
   "execution_count": 2,
   "metadata": {
    "collapsed": true
   },
   "outputs": [],
   "source": [
    "%matplotlib inline"
   ]
  },
  {
   "cell_type": "code",
   "execution_count": 3,
   "metadata": {
    "collapsed": true
   },
   "outputs": [],
   "source": [
    "def f(X):\n",
    "    Y = (X - 1.5)**2 + 0.5\n",
    "    print(\"X = {}, Y = {}\".format(X,Y))\n",
    "    return Y"
   ]
  },
  {
   "cell_type": "code",
   "execution_count": 4,
   "metadata": {
    "collapsed": false
   },
   "outputs": [],
   "source": [
    "#Xguess = 2.0\n",
    "#min_result = spo.minimize(f, Xguess, method='SLSQP', options={'disp':True})"
   ]
  },
  {
   "cell_type": "code",
   "execution_count": 5,
   "metadata": {
    "collapsed": false
   },
   "outputs": [],
   "source": [
    "# print(\"Minima found at:\")\n",
    "# print(\"X = {}, Y = {}\".format(min_result.x, min_result.fun))"
   ]
  },
  {
   "cell_type": "code",
   "execution_count": 6,
   "metadata": {
    "collapsed": false
   },
   "outputs": [],
   "source": [
    "# Xplot = np.linspace(0.5,2.5,21)\n",
    "# Yplot = f(Xplot)\n",
    "# plt.plot(Xplot, Yplot)\n",
    "# plt.plot(min_result.x, min_result.fun, 'ro')\n",
    "# plt.title(\"Minima of an objective function\")\n",
    "# plt.show()"
   ]
  },
  {
   "cell_type": "markdown",
   "metadata": {
    "collapsed": true
   },
   "source": [
    "## Fit Squared error"
   ]
  },
  {
   "cell_type": "code",
   "execution_count": 7,
   "metadata": {
    "collapsed": false
   },
   "outputs": [],
   "source": [
    "def error(line, data):\n",
    "    err = np.sum((data[:,1] - (line[0]*data[:, 0] + line[1]))**2)\n",
    "    return err"
   ]
  },
  {
   "cell_type": "code",
   "execution_count": 8,
   "metadata": {
    "collapsed": false
   },
   "outputs": [
    {
     "name": "stdout",
     "output_type": "stream",
     "text": [
      "Original line: C0 = 4.0, C1 = 2.0 \n"
     ]
    }
   ],
   "source": [
    "l_orig = np.float32([4,2])\n",
    "print(\"Original line: C0 = {}, C1 = {} \".format(l_orig[0], l_orig[1]))\n",
    "Xorig = np.linspace(0,10,21)\n",
    "Yorig = l_orig[0]*Xorig + l_orig[1]"
   ]
  },
  {
   "cell_type": "code",
   "execution_count": 9,
   "metadata": {
    "collapsed": false
   },
   "outputs": [
    {
     "data": {
      "text/plain": [
       "[<matplotlib.lines.Line2D at 0x21f4e314780>]"
      ]
     },
     "execution_count": 9,
     "metadata": {},
     "output_type": "execute_result"
    },
    {
     "data": {
      "image/png": "[encoded data removed]",
      "text/plain": [
       "<matplotlib.figure.Figure at 0x21f4df445c0>"
      ]
     },
     "metadata": {},
     "output_type": "display_data"
    }
   ],
   "source": [
    "plt.plot(Xorig, Yorig, 'b',linewidth=2.0, label=\"Original Line\")\n",
    "\n",
    "##Generate noisy data\n",
    "noise_sigma = 3.0\n",
    "noise = np.random.normal(0,noise_sigma, Yorig.shape)\n",
    "data = np.asarray([Xorig, Yorig + noise]).T\n",
    "plt.plot(data[:, 0], data[:,1], 'go', label=\"Data Points\")"
   ]
  },
  {
   "cell_type": "code",
   "execution_count": 10,
   "metadata": {
    "collapsed": false
   },
   "outputs": [],
   "source": [
    "def fit_line(data, error_func):\n",
    "    \n",
    "    # Generate random gess\n",
    "    l = np.float32([0, np.mean(data[:, 1])]) # slope=0, intercept=mean(yvalue)\n",
    "    \n",
    "    # Plot initial guess\n",
    "    x_ends = np.float32([-5,5])\n",
    "    plt.plot(x_ends, l[0]*x_ends + l[1], 'm--', linewidth=2.0, label=\"Initial Guess\")\n",
    "    \n",
    "    # Call oprimizer\n",
    "    result = spo.minimize(error_func, l, args=(data,), method='SLSQP', options={'disp':True})\n",
    "    return result.x"
   ]
  },
  {
   "cell_type": "code",
   "execution_count": 11,
   "metadata": {
    "collapsed": false
   },
   "outputs": [
    {
     "name": "stdout",
     "output_type": "stream",
     "text": [
      "Optimization terminated successfully.    (Exit mode 0)\n",
      "            Current function value: 193.25120595\n",
      "            Iterations: 5\n",
      "            Function evaluations: 24\n",
      "            Gradient evaluations: 5\n",
      "Fitted line: C0 = 3.930858522460988, C1 = 2.612966069289857\n"
     ]
    },
    {
     "data": {
      "image/png": "[encoded data removed]",
      "text/plain": [
       "<matplotlib.figure.Figure at 0x21f4df36f98>"
      ]
     },
     "metadata": {},
     "output_type": "display_data"
    }
   ],
   "source": [
    "## Try to fit a lnine to this data\n",
    "l_fit = fit_line(data, error)\n",
    "print(\"Fitted line: C0 = {}, C1 = {}\".format(l_fit[0], l_fit[1]))\n",
    "plt.plot(Xorig, Yorig, 'b',linewidth=2.0, label=\"Original Line\")\n",
    "plt.plot(data[:,0], l_fit[0]*data[:, 0] + l_fit[1], 'r--', linewidth=2.0, label=\"Fitted line\")\n",
    "plt.plot(data[:, 0], data[:,1], 'go', label=\"Data Points\")\n",
    "plt.legend(loc=\"upper left\")\n",
    "plt.show()"
   ]
  },
  {
   "cell_type": "markdown",
   "metadata": {},
   "source": [
    "## Non linear optimizer"
   ]
  },
  {
   "cell_type": "code",
   "execution_count": 12,
   "metadata": {
    "collapsed": true
   },
   "outputs": [],
   "source": [
    "def error_poly(C, data):\n",
    "    # Metric: Sum of squared Y-axis differences\n",
    "    \n",
    "    err = np.sum((data[:, 1] - np.polyval(C, data[:, 0]))**2)\n",
    "    return err"
   ]
  },
  {
   "cell_type": "code",
   "execution_count": 13,
   "metadata": {
    "collapsed": true
   },
   "outputs": [],
   "source": [
    "def fit_poly(data, error_func, degree=3):\n",
    "    Cguess = np.poly1d(np.ones(degree+1, dtype=np.float32))\n",
    "    x = np.linspace(-5,5,21)\n",
    "    plt.plot(x, np.polyval(Cguess,x), 'm--',linewidt=2.0, label=\"Initial Guess\")\n",
    "    \n",
    "    result = spo.minimize(error_func, Cguess, args=(data,), method='SLSQP', options={'disp':True})\n",
    "    return np.poly1d(result.x)"
   ]
  },
  {
   "cell_type": "markdown",
   "metadata": {},
   "source": [
    "# Portfolio Analysis"
   ]
  },
  {
   "cell_type": "code",
   "execution_count": 14,
   "metadata": {
    "collapsed": true
   },
   "outputs": [],
   "source": [
    "def get_data(symbols, dates):\n",
    "    comp_symbols = symbols.copy()\n",
    "    df_new = pd.DataFrame(index=dates)\n",
    "    if \"SPY\" not in symbols:\n",
    "        comp_symbols.insert(0,\"SPY\")\n",
    "    for symbol in comp_symbols:\n",
    "        df_temp = pd.read_csv(\"../data/stocks/{}.csv\".format(symbol), index_col='Date',\\\n",
    "                             parse_dates=True, usecols=['Date', 'Adj Close'])\n",
    "        df_temp = df_temp.rename(columns={'Adj Close': symbol})\n",
    "        df_new = df_new.join(df_temp)\n",
    "        if symbol == \"SPY\":\n",
    "            df_new = df_new.dropna()\n",
    "    return df_new"
   ]
  },
  {
   "cell_type": "code",
   "execution_count": 15,
   "metadata": {
    "collapsed": true
   },
   "outputs": [],
   "source": [
    "def plot_data(df, title=\"Stock Prices\", ylabel=None):\n",
    "    if ylabel is None:\n",
    "        ylabel = \"Price\"\n",
    "    ax = df.plot(title=title, fontsize=12)\n",
    "    ax.set_xlabel(\"Date\")\n",
    "    ax.set_ylabel(ylabel)\n",
    "    plt.show()"
   ]
  },
  {
   "cell_type": "code",
   "execution_count": 16,
   "metadata": {
    "collapsed": true
   },
   "outputs": [],
   "source": [
    "def get_portfolio_values(prices, allocs, start_val=1):\n",
    "    normed = prices / prices.ix[0]\n",
    "    \n",
    "    portfolio_returns = (normed*allocs).sum(axis=1)\n",
    "    port_val = portfolio_returns*start_val\n",
    "    \n",
    "    return port_val"
   ]
  },
  {
   "cell_type": "code",
   "execution_count": 17,
   "metadata": {
    "collapsed": true
   },
   "outputs": [],
   "source": [
    "def get_portfolio_stats(port_val, daily_rf=0, samples_per_year=252):\n",
    "    daily_ret = (port_val[1:].values/port_val[:-1].values) -1\n",
    "    #daily_ret = daily_ret[1:]  # no need for this nan is not included in this\n",
    "    port_val = pd.DataFrame(port_val)\n",
    "    cum_ret = np.array(port_val.ix[-1].values/port_val.ix[0].values - 1.0)\n",
    "    \n",
    "    avg_daily_ret = daily_ret.mean()\n",
    "    \n",
    "    std_daily_ret = daily_ret.std()\n",
    "    \n",
    "    sharpe_ratio = np.sqrt(samples_per_year) * daily_ret.mean()/daily_ret.std()\n",
    "    \n",
    "    return cum_ret, avg_daily_ret, std_daily_ret, sharpe_ratio"
   ]
  },
  {
   "cell_type": "code",
   "execution_count": 18,
   "metadata": {
    "collapsed": false
   },
   "outputs": [],
   "source": [
    "def assess_portfolio(data, symbols,  allocs, start_val=1):\n",
    "    prices = data[symbols]\n",
    "    prices_SPY = data['SPY']   #For comparison\n",
    "    \n",
    "    port_val = get_portfolio_values(prices, allocs, start_val)\n",
    "    port_val = pd.DataFrame(port_val)\n",
    "    #print(port_val)\n",
    "    samples_per_year=252\n",
    "    cum_ret, avg_daily_ret, std_daily_ret, sharpe_ratio = \\\n",
    "    get_portfolio_stats(port_val, samples_per_year)\n",
    "    \n",
    "    print(\"Start Date: \", start_date)\n",
    "    print(\"End Date: \", end_date)\n",
    "    print(\"Symbols: \", symbols)\n",
    "    print(\"Allocations: \", allocs)\n",
    "    print(\"Sharpe Ratio: \", sharpe_ratio)\n",
    "    print(\"Volatility (stdev of daily returns):\", std_daily_ret)\n",
    "    print(\"Volatility (stdev of daily returns, annualized):\", std_daily_ret * np.sqrt(samples_per_year))\n",
    "    print(\"Average Daily Return:\", avg_daily_ret)\n",
    "    print(\"Cumulative Return:\", cum_ret)"
   ]
  },
  {
   "cell_type": "code",
   "execution_count": 19,
   "metadata": {
    "collapsed": false
   },
   "outputs": [],
   "source": [
    "start_date = '2010-01-01'\n",
    "end_date = '2010-12-31'\n",
    "\n",
    "#symbols = ['GOOG', 'AAPL', 'GLD', 'XOM']\n",
    "symbol_allocations = {'GLD':0.4, 'XOM': 0.1, 'GOOG': 0.2, 'AAPL': 0.3}\n",
    "symbols = list(symbol_allocations.keys())\n",
    "allocs = list(symbol_allocations.values())\n",
    "start_val = 1000000\n",
    "\n",
    "\n",
    "dates = pd.date_range(start_date, end_date)\n",
    "df = get_data(symbols, dates)"
   ]
  },
  {
   "cell_type": "code",
   "execution_count": 20,
   "metadata": {
    "collapsed": false
   },
   "outputs": [],
   "source": [
    "#pd.DataFrame(df[-1]/df[0] -1.0).head()"
   ]
  },
  {
   "cell_type": "code",
   "execution_count": 21,
   "metadata": {
    "collapsed": false
   },
   "outputs": [
    {
     "name": "stdout",
     "output_type": "stream",
     "text": [
      "Start Date:  2010-01-01\n",
      "End Date:  2010-12-31\n",
      "Symbols:  ['GOOG', 'AAPL', 'XOM', 'GLD']\n",
      "Allocations:  [0.2, 0.3, 0.1, 0.4]\n",
      "Sharpe Ratio:  1.52122579096\n",
      "Volatility (stdev of daily returns): 0.00999044185732\n",
      "Volatility (stdev of daily returns, annualized): 0.158593347853\n",
      "Average Daily Return: 0.000957366234238\n",
      "Cumulative Return: [ 0.25564678]\n"
     ]
    }
   ],
   "source": [
    "assess_portfolio(df, symbols, allocs, start_val)"
   ]
  },
  {
   "cell_type": "markdown",
   "metadata": {},
   "source": [
    "# Portfolio Optimizer"
   ]
  },
  {
   "cell_type": "code",
   "execution_count": 22,
   "metadata": {
    "collapsed": true
   },
   "outputs": [],
   "source": [
    "def sharpe_maximizer(allocs, prices):\n",
    "    \n",
    "    port_val = get_portfolio_values(prices, allocs)\n",
    "    samples_per_year = 252\n",
    "    cum_ret, avg_daily_ret, std_daily_ret, sharpe_ratio = \\\n",
    "    get_portfolio_stats(port_val, samples_per_year)\n",
    "    \n",
    "    return sharpe_ratio*-1"
   ]
  },
  {
   "cell_type": "code",
   "execution_count": 23,
   "metadata": {
    "collapsed": true
   },
   "outputs": [],
   "source": [
    "def find_optimal_allocation(prices):\n",
    "    \n",
    "    guess = np.ones(prices.shape[1], dtype=np.float64)*1.0/prices.shape[1]\n",
    "    alloc_bounds = [(0, 1)]*prices.shape[1]\n",
    "    \n",
    "    alloc_constraints = ({'type':'eq','fun': lambda x: np.sum(x)-1})\n",
    "    min_result = spo.minimize(sharpe_maximizer, guess, args=(prices, ),\\\n",
    "                             method=\"SLSQP\", options={'disp':True},\\\n",
    "                             bounds = alloc_bounds, constraints=alloc_constraints)\n",
    "    #print(min_result)\n",
    "    return min_result.x"
   ]
  },
  {
   "cell_type": "code",
   "execution_count": 87,
   "metadata": {
    "collapsed": false
   },
   "outputs": [],
   "source": [
    "def optimize_portfolio(data, symbols, start_val):\n",
    "    prices = data[symbols]\n",
    "    prices_SPY = data['SPY']\n",
    "    \n",
    "    opt_allocs = find_optimal_allocation(prices)\n",
    "    opt_allocs = opt_allocs / np.sum(opt_allocs) ## Normalize allocsations, if they dont sum to 1.0\n",
    "    #print(\"<----------Optimum Allocations--------------->\")\n",
    "    #print(opt_allocs)\n",
    "    assess_portfolio(data, symbols, opt_allocs, start_val)\n",
    "    return opt_allocs"
   ]
  },
  {
   "cell_type": "code",
   "execution_count": 88,
   "metadata": {
    "collapsed": false
   },
   "outputs": [
    {
     "name": "stdout",
     "output_type": "stream",
     "text": [
      "Optimization terminated successfully.    (Exit mode 0)\n",
      "            Current function value: -2.00801904073\n",
      "            Iterations: 6\n",
      "            Function evaluations: 36\n",
      "            Gradient evaluations: 6\n",
      "Start Date:  2010-01-01\n",
      "End Date:  2010-12-31\n",
      "Symbols:  ['GOOG', 'AAPL', 'XOM', 'GLD']\n",
      "Allocations:  [  0.00000000e+00   3.96660601e-01   1.87808195e-16   6.03339399e-01]\n",
      "Sharpe Ratio:  2.00801904073\n",
      "Volatility (stdev of daily returns): 0.0100962041463\n",
      "Volatility (stdev of daily returns, annualized): 0.16027227214\n",
      "Average Daily Return: 0.00127710227841\n",
      "Cumulative Return: [ 0.36009056]\n"
     ]
    }
   ],
   "source": [
    "optimum_allocs = optimize_portfolio(df, symbols, start_val)"
   ]
  },
  {
   "cell_type": "code",
   "execution_count": 89,
   "metadata": {
    "collapsed": false
   },
   "outputs": [
    {
     "data": {
      "text/plain": [
       "array([  0.00000000e+00,   3.96660601e-01,   1.87808195e-16,\n",
       "         6.03339399e-01])"
      ]
     },
     "execution_count": 89,
     "metadata": {},
     "output_type": "execute_result"
    }
   ],
   "source": [
    "optimum_allocs"
   ]
  },
  {
   "cell_type": "code",
   "execution_count": 128,
   "metadata": {
    "collapsed": true
   },
   "outputs": [],
   "source": [
    "def plot_data(data, symbols, regular_allocs, optimal_allocs, start_val):\n",
    "    prices = data[symbols]\n",
    "    normed_prices = prices/prices.ix[0]\n",
    "    not_opt_return = normed_prices * regular_allocs\n",
    "    pos_values = not_opt_return * start_val\n",
    "    not_opt_portfolio_vals = pd.DataFrame(pos_values.sum(axis=1)/pos_values.ix[0], index=data.index, columns=['sum'])\n",
    "    #plt.plot(not_opt_portfolio_vals.index, not_opt_portfolio_vals['sum'], label=\"Non Optimized Portfolio\")\n",
    "    plt.plot(data.index, data['SPY']/data['SPY'].ix[0], label=\"SPY\")\n",
    "    \n",
    "    opt_allocated = normed_prices * optimal_allocs\n",
    "    #print(opt_allocated.head())\n",
    "    opt_pos_values = opt_allocated * start_val\n",
    "    opt_portfolio_values = pd.DataFrame(opt_pos_values.sum(axis=1), index=data.index, columns=['sum'])\n",
    "    plt.plot(opt_portfolio_values.index, opt_portfolio_values['sum']/opt_portfolio_values['sum'].ix[0], label=\"Optimized Portfolio\")\n",
    "    plt.xticks(rotation=40)\n",
    "    plt.legend(loc='upper left')"
   ]
  },
  {
   "cell_type": "code",
   "execution_count": 129,
   "metadata": {
    "collapsed": false
   },
   "outputs": [
    {
     "name": "stderr",
     "output_type": "stream",
     "text": [
      "C:\\Users\\Kunal\\Anaconda3\\lib\\site-packages\\pandas\\indexes\\base.py:2397: RuntimeWarning: Cannot compare type 'Timestamp' with type 'str', sort order is undefined for incomparable objects\n",
      "  return this.join(other, how=how, return_indexers=return_indexers)\n"
     ]
    },
    {
     "data": {
      "image/png": "[encoded data removed]",
      "text/plain": [
       "<matplotlib.figure.Figure at 0x21f4fd33860>"
      ]
     },
     "metadata": {},
     "output_type": "display_data"
    }
   ],
   "source": [
    "plot_data(df, symbols, allocs, optimum_allocs, start_val)"
   ]
  },
  {
   "cell_type": "code",
   "execution_count": null,
   "metadata": {
    "collapsed": true
   },
   "outputs": [],
   "source": []
  }
 ],
 "metadata": {
  "kernelspec": {
   "display_name": "Python 3",
   "language": "python",
   "name": "python3"
  },
  "language_info": {
   "codemirror_mode": {
    "name": "ipython",
    "version": 3
   },
   "file_extension": ".py",
   "mimetype": "text/x-python",
   "name": "python",
   "nbconvert_exporter": "python",
   "pygments_lexer": "ipython3",
   "version": "3.5.2"
  }
 },
 "nbformat": 4,
 "nbformat_minor": 0
}
